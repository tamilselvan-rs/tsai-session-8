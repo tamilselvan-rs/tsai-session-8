{
 "cells": [
  {
   "cell_type": "code",
   "execution_count": 1,
   "metadata": {},
   "outputs": [
    {
     "name": "stdout",
     "output_type": "stream",
     "text": [
      "----------------------------------------------------------------\n",
      "        Layer (type)               Output Shape         Param #\n",
      "================================================================\n",
      "            Conv2d-1           [-1, 32, 32, 32]             896\n",
      "       BatchNorm2d-2           [-1, 32, 32, 32]              64\n",
      "              ReLU-3           [-1, 32, 32, 32]               0\n",
      "         Dropout2d-4           [-1, 32, 32, 32]               0\n",
      "            Conv2d-5           [-1, 32, 32, 32]           9,248\n",
      "       BatchNorm2d-6           [-1, 32, 32, 32]              64\n",
      "              ReLU-7           [-1, 32, 32, 32]               0\n",
      "         Dropout2d-8           [-1, 32, 32, 32]               0\n",
      "            Conv2d-9           [-1, 32, 32, 32]           1,056\n",
      "      BatchNorm2d-10           [-1, 32, 32, 32]              64\n",
      "             ReLU-11           [-1, 32, 32, 32]               0\n",
      "        Dropout2d-12           [-1, 32, 32, 32]               0\n",
      "        MaxPool2d-13           [-1, 32, 16, 16]               0\n",
      "           Conv2d-14           [-1, 32, 16, 16]           9,248\n",
      "      BatchNorm2d-15           [-1, 32, 16, 16]              64\n",
      "             ReLU-16           [-1, 32, 16, 16]               0\n",
      "        Dropout2d-17           [-1, 32, 16, 16]               0\n",
      "           Conv2d-18           [-1, 32, 16, 16]           9,248\n",
      "      BatchNorm2d-19           [-1, 32, 16, 16]              64\n",
      "             ReLU-20           [-1, 32, 16, 16]               0\n",
      "        Dropout2d-21           [-1, 32, 16, 16]               0\n",
      "           Conv2d-22           [-1, 32, 16, 16]           9,248\n",
      "      BatchNorm2d-23           [-1, 32, 16, 16]              64\n",
      "             ReLU-24           [-1, 32, 16, 16]               0\n",
      "        Dropout2d-25           [-1, 32, 16, 16]               0\n",
      "           Conv2d-26           [-1, 32, 16, 16]           1,056\n",
      "      BatchNorm2d-27           [-1, 32, 16, 16]              64\n",
      "             ReLU-28           [-1, 32, 16, 16]               0\n",
      "        Dropout2d-29           [-1, 32, 16, 16]               0\n",
      "        MaxPool2d-30             [-1, 32, 8, 8]               0\n",
      "           Conv2d-31             [-1, 16, 8, 8]           4,624\n",
      "      BatchNorm2d-32             [-1, 16, 8, 8]              32\n",
      "             ReLU-33             [-1, 16, 8, 8]               0\n",
      "        Dropout2d-34             [-1, 16, 8, 8]               0\n",
      "           Conv2d-35             [-1, 16, 6, 6]           2,320\n",
      "      BatchNorm2d-36             [-1, 16, 6, 6]              32\n",
      "             ReLU-37             [-1, 16, 6, 6]               0\n",
      "        Dropout2d-38             [-1, 16, 6, 6]               0\n",
      "           Conv2d-39             [-1, 16, 4, 4]           2,320\n",
      "      BatchNorm2d-40             [-1, 16, 4, 4]              32\n",
      "             ReLU-41             [-1, 16, 4, 4]               0\n",
      "        Dropout2d-42             [-1, 16, 4, 4]               0\n",
      "        AvgPool2d-43             [-1, 16, 1, 1]               0\n",
      "           Conv2d-44             [-1, 10, 1, 1]             170\n",
      "      BatchNorm2d-45             [-1, 10, 1, 1]              20\n",
      "             ReLU-46             [-1, 10, 1, 1]               0\n",
      "        Dropout2d-47             [-1, 10, 1, 1]               0\n",
      "================================================================\n",
      "Total params: 49,998\n",
      "Trainable params: 49,998\n",
      "Non-trainable params: 0\n",
      "----------------------------------------------------------------\n",
      "Input size (MB): 0.01\n",
      "Forward/backward pass size (MB): 4.14\n",
      "Params size (MB): 0.19\n",
      "Estimated Total Size (MB): 4.34\n",
      "----------------------------------------------------------------\n"
     ]
    }
   ],
   "source": [
    "from cifar10_base import Net\n",
    "from common import get_dst_device\n",
    "from modelhelper import print_model_summary\n",
    "device = get_dst_device()\n",
    "model = Net().to(device)\n",
    "print_model_summary(model)"
   ]
  },
  {
   "cell_type": "code",
   "execution_count": 8,
   "metadata": {},
   "outputs": [
    {
     "ename": "NameError",
     "evalue": "name 'get_train_transforms' is not defined",
     "output_type": "error",
     "traceback": [
      "\u001b[0;31m---------------------------------------------------------------------------\u001b[0m",
      "\u001b[0;31mNameError\u001b[0m                                 Traceback (most recent call last)",
      "Cell \u001b[0;32mIn[8], line 3\u001b[0m\n\u001b[1;32m      1\u001b[0m \u001b[38;5;28;01mfrom\u001b[39;00m \u001b[38;5;21;01mdataloader\u001b[39;00m \u001b[38;5;28;01mimport\u001b[39;00m setup_test_loader, setup_train_loader\n\u001b[1;32m      2\u001b[0m \u001b[38;5;28;01mfrom\u001b[39;00m \u001b[38;5;21;01mplots\u001b[39;00m \u001b[38;5;28;01mimport\u001b[39;00m plot_data\n\u001b[0;32m----> 3\u001b[0m train_loader \u001b[38;5;241m=\u001b[39m \u001b[43msetup_train_loader\u001b[49m\u001b[43m(\u001b[49m\u001b[38;5;124;43m\"\u001b[39;49m\u001b[38;5;124;43m../data\u001b[39;49m\u001b[38;5;124;43m\"\u001b[39;49m\u001b[43m)\u001b[49m\n\u001b[1;32m      4\u001b[0m test_loader \u001b[38;5;241m=\u001b[39m setup_test_loader(\u001b[38;5;124m\"\u001b[39m\u001b[38;5;124m../data\u001b[39m\u001b[38;5;124m\"\u001b[39m)\n",
      "File \u001b[0;32m~/tsai/tsai-session-8/dataloader.py:12\u001b[0m, in \u001b[0;36msetup_train_loader\u001b[0;34m(destination)\u001b[0m\n\u001b[1;32m      5\u001b[0m batch_size \u001b[39m=\u001b[39m \u001b[39m128\u001b[39m\n\u001b[1;32m      6\u001b[0m kwargs \u001b[39m=\u001b[39m {\n\u001b[1;32m      7\u001b[0m     \u001b[39m'\u001b[39m\u001b[39mbatch_size\u001b[39m\u001b[39m'\u001b[39m: batch_size, \n\u001b[1;32m      8\u001b[0m     \u001b[39m'\u001b[39m\u001b[39mshuffle\u001b[39m\u001b[39m'\u001b[39m: \u001b[39mTrue\u001b[39;00m, \n\u001b[1;32m      9\u001b[0m     \u001b[39m'\u001b[39m\u001b[39mnum_workers\u001b[39m\u001b[39m'\u001b[39m: \u001b[39m2\u001b[39m, \n\u001b[1;32m     10\u001b[0m     \u001b[39m'\u001b[39m\u001b[39mpin_memory\u001b[39m\u001b[39m'\u001b[39m: \u001b[39mTrue\u001b[39;00m\n\u001b[1;32m     11\u001b[0m }\n\u001b[0;32m---> 12\u001b[0m train_data \u001b[39m=\u001b[39m datasets\u001b[39m.\u001b[39mCIFAR10(destination, train\u001b[39m=\u001b[39m\u001b[39mTrue\u001b[39;00m, download\u001b[39m=\u001b[39m\u001b[39mTrue\u001b[39;00m, transform\u001b[39m=\u001b[39mget_train_transforms())\n\u001b[1;32m     13\u001b[0m \u001b[39mreturn\u001b[39;00m torch\u001b[39m.\u001b[39mutils\u001b[39m.\u001b[39mdata\u001b[39m.\u001b[39mDataLoader(train_data, \u001b[39m*\u001b[39m\u001b[39m*\u001b[39mkwargs)\n",
      "\u001b[0;31mNameError\u001b[0m: name 'get_train_transforms' is not defined"
     ]
    }
   ],
   "source": [
    "from dataloader import setup_test_loader, setup_train_loader\n",
    "from plots import plot_data\n",
    "from torchvision import transforms\n",
    "train_transforms = transforms.Compose([\n",
    "        transforms.ToTensor(),\n",
    "        transforms.Normalize((0.1307,), (0.3081,)),\n",
    "])\n",
    "\n",
    "test_transforms = transforms.Compose([\n",
    "        transforms.ToTensor(),\n",
    "        transforms.Normalize((0.1307,), (0.3081,)),\n",
    "])\n",
    "train_loader = setup_train_loader(\"../data\")\n",
    "test_loader = setup_test_loader(\"../data\")"
   ]
  },
  {
   "cell_type": "code",
   "execution_count": 3,
   "metadata": {},
   "outputs": [
    {
     "name": "stdout",
     "output_type": "stream",
     "text": [
      "Adjusting learning rate of group 0 to 1.0000e-02.\n",
      "Epoch 1\n"
     ]
    },
    {
     "name": "stderr",
     "output_type": "stream",
     "text": [
      "Train: Loss=2.1243 Batch_id=136 Accuracy=16.20:  35%|███▌      | 137/391 [00:49<01:24,  3.01it/s]"
     ]
    }
   ],
   "source": [
    "import torch.optim as optim\n",
    "import torch.nn.functional as F\n",
    "from utils import train_model, test_model\n",
    "optimizer = optim.SGD(model.parameters(), lr=0.01, momentum=0.9)\n",
    "scheduler = optim.lr_scheduler.StepLR(optimizer, step_size=15, gamma=0.1, verbose=True)\n",
    "# New Line\n",
    "criterion = F.nll_loss\n",
    "num_epochs = 20\n",
    "train_loss_per_epoch = []\n",
    "test_loss_per_epoch = []\n",
    "train_accuracy_per_epoch = []\n",
    "test_accuracy_per_epoch = []\n",
    "for epoch in range(1, num_epochs+1):\n",
    "  print(f'Epoch {epoch}')\n",
    "  [train_accuracy, train_loss] = train_model(model, device, train_loader, optimizer, criterion)\n",
    "  train_accuracy_per_epoch.append(train_accuracy)\n",
    "  train_loss_per_epoch.append(train_loss)\n",
    "\n",
    "  [test_accuracy, test_loss] = test_model(model, device, test_loader, criterion)\n",
    "  test_accuracy_per_epoch.append(train_accuracy)\n",
    "  test_loss_per_epoch.append(train_loss)\n",
    "\n",
    "  scheduler.step()"
   ]
  }
 ],
 "metadata": {
  "kernelspec": {
   "display_name": "Python 3.10.9 ('base')",
   "language": "python",
   "name": "python3"
  },
  "language_info": {
   "codemirror_mode": {
    "name": "ipython",
    "version": 3
   },
   "file_extension": ".py",
   "mimetype": "text/x-python",
   "name": "python",
   "nbconvert_exporter": "python",
   "pygments_lexer": "ipython3",
   "version": "3.10.9"
  },
  "orig_nbformat": 4,
  "vscode": {
   "interpreter": {
    "hash": "d80930185d003ea1dd6dbcf9e456fce4dcdc865ee148f4f678c936801e488fca"
   }
  }
 },
 "nbformat": 4,
 "nbformat_minor": 2
}
